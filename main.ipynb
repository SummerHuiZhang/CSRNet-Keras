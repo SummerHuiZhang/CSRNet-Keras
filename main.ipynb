{
 "cells": [
  {
   "cell_type": "code",
   "execution_count": null,
   "metadata": {
    "scrolled": true
   },
   "outputs": [],
   "source": [
    "import os\n",
    "import sys\n",
    "import cv2\n",
    "import time\n",
    "import numpy as np\n",
    "import scipy.io as io\n",
    "import matplotlib.pyplot as plt\n",
    "from keras.optimizers import Adam\n",
    "from keras.models import model_from_json\n",
    "from CSRNet import CSRNet\n",
    "from utils import load_img, gen_x_y, eval_loss, gen_paths\n",
    "\n",
    "\n",
    "# Settings\n",
    "os.environ[\"CUDA_VISIBLE_DEVICES\"] = \"0\"\n",
    "%matplotlib inline\n",
    "dataset = \"A\"\n",
    "\n",
    "img_paths_test, img_paths_train, img_paths_val = gen_paths(path_file_root='data/paths_train_val_test', dataset='A')\n",
    "x_train, y_train, img_paths_train = gen_x_y(img_paths_train)\n",
    "x_val, y_val, img_paths_val = gen_x_y(img_paths_val)\n",
    "x_test, y_test, img_paths_test = gen_x_y(img_paths_test)\n",
    "print(len(x_train), len(y_train), len(img_paths_train))\n",
    "print(len(x_val), len(y_val), len(img_paths_val))\n",
    "print(len(x_test), len(y_test), len(img_paths_test))\n",
    "\n",
    "weights_dir = 'weights_' + dataset\n",
    "if not os.path.exists(weights_dir):\n",
    "    os.mkdir(weights_dir)"
   ]
  },
  {
   "cell_type": "code",
   "execution_count": null,
   "metadata": {
    "scrolled": true
   },
   "outputs": [],
   "source": [
    "# Model\n",
    "model = CSRNet()\n",
    "model.summary()\n",
    "optimizer = Adam(lr=1e-6)\n",
    "model.compile(optimizer=optimizer, loss='mse')"
   ]
  },
  {
   "cell_type": "code",
   "execution_count": null,
   "metadata": {
    "scrolled": true
   },
   "outputs": [],
   "source": [
    "# Settings\n",
    "lossDMD = 12580\n",
    "lossMAE = 12580\n",
    "counter_train = 0\n",
    "lossesDMD = []\n",
    "lossesMAE = []\n",
    "mae = 10086\n",
    "epoch_train = 200\n",
    "time_st = time.time()\n",
    "x_val_display = cv2.cvtColor(cv2.imread(img_paths_val[0]), cv2.COLOR_BGR2RGB)\n",
    "y_val_display = np.squeeze(y_val[0])\n",
    "with open('./models/CSRNet.json', 'w') as fout:\n",
    "    fout.write(model.to_json())\n",
    "\n",
    "# Training\n",
    "for epoch in range(epoch_train):\n",
    "    for i in range(len(x_train)):\n",
    "        x_, y_ = x_train[i], y_train[i]\n",
    "        model.fit(x_, y_, verbose=0)\n",
    "        counter_train += 1\n",
    "        if counter_train % (len(x_train)*0.5) == 0:\n",
    "            # Calc loss\n",
    "            lossDMD, lossMAE = eval_loss(model, x_val, y_val, dataset)\n",
    "            lossesDMD.append(lossDMD)\n",
    "            lossesMAE.append(lossMAE)\n",
    "            if lossMAE < mae:\n",
    "                mae = lossMAE\n",
    "                model.save_weights(os.path.join(weights_dir, 'CSRNet_lossMAE{}_lossDMD{}.hdf5'.format(lossMAE, lossDMD)))\n",
    "                model.save_weights(os.path.join(weights_dir, 'CSRNet_best.hdf5'))\n",
    "            if counter_train % (len(x_train)*5) == 0:\n",
    "                pred = np.squeeze(model.predict(np.expand_dims(x_val_display, axis=0)))\n",
    "                # show prediction\n",
    "                fg, (ax_x_ori, ax_y, ax_pred) = plt.subplots(1, 3, figsize=(20, 4))\n",
    "                ax_x_ori.imshow(x_val_display)\n",
    "                ax_x_ori.set_title('Original Image')\n",
    "                ax_y.imshow(y_val_display, cmap=plt.cm.jet)\n",
    "                ax_y.set_title('Ground_truth: ' + str(np.sum(y_val_display)))\n",
    "                ax_pred.imshow(pred, cmap=plt.cm.jet)\n",
    "                ax_pred.set_title('Prediction: ' + str(np.sum(pred)))\n",
    "                plt.suptitle('Loss = ' + str(lossMAE))\n",
    "                plt.show()\n",
    "                if epoch % 50 == 0:\n",
    "                    # plot val_loss\n",
    "                    plt.plot(lossesDMD, 'r')\n",
    "                    plt.plot(lossesMAE, 'b')\n",
    "                    plt.legend(['Loss_Density_Map_Distance', 'Loss_MAE'])\n",
    "                    plt.title('Loss')\n",
    "                    plt.show()\n",
    "        time_now = time.time()\n",
    "        time_consuming = time_now - time_st\n",
    "        sys.stdout.write('In epoch {}_{}, with Mean_Density_Map_Distance={}, MAE={}, time consuming={}m-{}s\\r'.format(\n",
    "            epoch, counter_train%len(x_train), round(lossDMD, 3), round(lossMAE, 3),\n",
    "            int(time_consuming/60), int(time_consuming-int(time_consuming/60)*60)\n",
    "        ))\n",
    "        sys.stdout.flush()"
   ]
  },
  {
   "cell_type": "code",
   "execution_count": null,
   "metadata": {},
   "outputs": [],
   "source": [
    "plt.plot(losses, 'r')\n",
    "plt.plot(losses_standard, 'b')\n",
    "plt.legend(['density_distance', 'MAE_standard'])\n",
    "plt.title('Loss')\n",
    "plt.show()"
   ]
  },
  {
   "cell_type": "code",
   "execution_count": null,
   "metadata": {},
   "outputs": [],
   "source": [
    "# Load best model\n",
    "with open('models/CSRNet.json', 'r') as fin:\n",
    "    model = model_from_json(fin.read())\n",
    "model.load_weights('./weights/CSRNet_best.hdf5')"
   ]
  },
  {
   "cell_type": "code",
   "execution_count": null,
   "metadata": {},
   "outputs": [],
   "source": [
    "# On test set\n",
    "for i in range(len(y_test)):\n",
    "    lossDMD_test, lossMAE_test = eval_loss(model, x_test[i:i+1], y_test[i:i+1], dataset)\n",
    "    lossesDMD_test.append(lossDMD_test)\n",
    "    lossesMAE_standard_test.append(lossMAE_test)\n",
    "    if i % 50 == 0:\n",
    "        pred = np.squeeze(model.predict(np.expand_dims(x_test[i], axis=0)))\n",
    "        fg, (ax_x_ori, ax_y, ax_pred) = plt.subplots(1, 3, figsize=(20, 4))\n",
    "        ax_x_ori.imshow(x_test[i])\n",
    "        ax_x_ori.set_title('Original Image')\n",
    "        ax_y.imshow(np.squeeze(y_test[i]), cmap=plt.cm.jet)\n",
    "        ax_y.set_title('Ground_truth: ' + str(np.sum(y_test[i])))\n",
    "        ax_pred.imshow(pred, cmap=plt.cm.jet)\n",
    "        ax_pred.set_title('Prediction: ' + str(np.sum(pred)))\n",
    "        plt.show()\n",
    "print('Over all test set, Density_Map_Distance={}, MAE={}'.format(np.mean(loss_test), np.mean(loss_standard_test)))"
   ]
  },
  {
   "cell_type": "code",
   "execution_count": null,
   "metadata": {},
   "outputs": [],
   "source": []
  }
 ],
 "metadata": {
  "kernelspec": {
   "display_name": "Python 3",
   "language": "python",
   "name": "python3"
  },
  "language_info": {
   "codemirror_mode": {
    "name": "ipython",
    "version": 3
   },
   "file_extension": ".py",
   "mimetype": "text/x-python",
   "name": "python",
   "nbconvert_exporter": "python",
   "pygments_lexer": "ipython3",
   "version": "3.6.6"
  }
 },
 "nbformat": 4,
 "nbformat_minor": 2
}
