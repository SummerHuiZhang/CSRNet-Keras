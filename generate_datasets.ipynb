{
 "cells": [
  {
   "cell_type": "code",
   "execution_count": null,
   "metadata": {},
   "outputs": [],
   "source": [
    "# Refer from https://github.com/leeyeehoo/CSRNet-pytorch/blob/master/make_dataset.ipynb\n",
    "import os\n",
    "import cv2\n",
    "import glob\n",
    "import h5py\n",
    "import scipy\n",
    "import numpy as np\n",
    "from tqdm import tqdm"
   ]
  },
  {
   "cell_type": "code",
   "execution_count": null,
   "metadata": {},
   "outputs": [],
   "source": [
    "def gaussian_filter_density(gt):\n",
    "    density = np.zeros(gt.shape, dtype=np.float32)\n",
    "    gt_count = np.count_nonzero(gt)\n",
    "    if gt_count == 0:\n",
    "        return density\n",
    "\n",
    "    pts = np.array(list(zip(np.nonzero(gt)[1].ravel(), np.nonzero(gt)[0].ravel())))\n",
    "    leafsize = 2048\n",
    "    tree = scipy.spatial.KDTree(pts.copy(), leafsize=leafsize)\n",
    "    distances, locations = tree.query(pts, k=4)\n",
    "\n",
    "    for i, pt in enumerate(pts):\n",
    "        pt2d = np.zeros(gt.shape, dtype=np.float32)\n",
    "        pt2d[pt[1], pt[0]] = 1.\n",
    "        if gt_count > 1:\n",
    "            sigma = (distances[i][1]+distances[i][2]+distances[i][3])*0.1\n",
    "        else:\n",
    "            sigma = np.average(np.array(gt.shape))/2./2.\n",
    "\n",
    "        density += scipy.ndimage.filters.gaussian_filter(pt2d, sigma, mode='constant')\n",
    "    \n",
    "    return density"
   ]
  },
  {
   "cell_type": "code",
   "execution_count": null,
   "metadata": {},
   "outputs": [],
   "source": [
    "root = 'data/ShanghaiTech/'"
   ]
  },
  {
   "cell_type": "code",
   "execution_count": null,
   "metadata": {},
   "outputs": [],
   "source": [
    "part_A_train = os.path.join(root, 'part_A/train_data', 'images')\n",
    "part_A_test = os.path.join(root, 'part_A/test_data', 'images')\n",
    "part_B_train = os.path.join(root, 'part_B/train_data', 'images')\n",
    "part_B_test = os.path.join(root, 'part_B/test_data', 'images')\n",
    "path_sets = [part_A_train, part_A_test, part_B_train, part_B_test]"
   ]
  },
  {
   "cell_type": "code",
   "execution_count": null,
   "metadata": {},
   "outputs": [],
   "source": [
    "img_paths = []\n",
    "for path in path_sets:\n",
    "    for img_path in glob.glob(os.path.join(path, '*.jpg')):\n",
    "        img_paths.append(img_path)\n",
    "print(len(img_paths))"
   ]
  },
  {
   "cell_type": "code",
   "execution_count": null,
   "metadata": {},
   "outputs": [],
   "source": [
    "for img_path in tqdm(img_paths):\n",
    "\n",
    "    pts = scipy.io.loadmat(img_path.replace('.jpg', '.mat').replace('images', 'ground-truth').replace('IMG_', 'GT_IMG_'))\n",
    "    img = cv2.imread(img_path)\n",
    "\n",
    "    k = np.zeros((img.shape[0], img.shape[1]))\n",
    "\n",
    "    gt = pts[\"image_info\"][0, 0][0, 0][0]\n",
    "\n",
    "    for i in range(len(gt)):\n",
    "        if int(gt[i][1]) < img.shape[0] and int(gt[i][0]) < img.shape[1]:\n",
    "            k[int(gt[i][1]), int(gt[i][0])] = 1\n",
    "\n",
    "    k = gaussian_filter_density(k)\n",
    "\n",
    "    file_path = img_path.replace('.jpg', '.h5').replace('images', 'ground')\n",
    "\n",
    "    with h5py.File(file_path, 'w') as hf:\n",
    "            hf['density'] = k"
   ]
  },
  {
   "cell_type": "code",
   "execution_count": null,
   "metadata": {},
   "outputs": [],
   "source": []
  }
 ],
 "metadata": {
  "kernelspec": {
   "display_name": "Python 3",
   "language": "python",
   "name": "python3"
  },
  "language_info": {
   "codemirror_mode": {
    "name": "ipython",
    "version": 3
   },
   "file_extension": ".py",
   "mimetype": "text/x-python",
   "name": "python",
   "nbconvert_exporter": "python",
   "pygments_lexer": "ipython3",
   "version": "3.6.6"
  }
 },
 "nbformat": 4,
 "nbformat_minor": 2
}
